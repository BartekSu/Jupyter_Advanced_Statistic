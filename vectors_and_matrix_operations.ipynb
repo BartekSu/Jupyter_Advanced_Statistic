{
 "cells": [
  {
   "cell_type": "code",
   "execution_count": 18,
   "id": "39e15f1f-0769-4cfa-a5e6-252529a93a28",
   "metadata": {},
   "outputs": [],
   "source": [
    "import math"
   ]
  },
  {
   "cell_type": "code",
   "execution_count": 19,
   "id": "60ec433b-4067-4eaf-862b-6e6e30f1f0fa",
   "metadata": {},
   "outputs": [],
   "source": [
    "def norm_vector(v):\n",
    "    dot_product = sum(i*i for i in v)\n",
    "    return math.sqrt(dot_product)"
   ]
  },
  {
   "cell_type": "code",
   "execution_count": 33,
   "id": "913fae46-17a2-4a06-a0cd-9f19dd4c6874",
   "metadata": {},
   "outputs": [
    {
     "data": {
      "text/plain": [
       "7.416198487095663"
      ]
     },
     "execution_count": 33,
     "metadata": {},
     "output_type": "execute_result"
    }
   ],
   "source": [
    "norm_vector([-1,2,-3,-4,5])"
   ]
  },
  {
   "cell_type": "code",
   "execution_count": 43,
   "id": "6b1ebb78-b778-4728-9f34-a0f71a590bed",
   "metadata": {},
   "outputs": [],
   "source": [
    "def matrix_addition(x,y):\n",
    "    xrows = len(x)\n",
    "    xcols = len(x[0])\n",
    "    yrows = len(y)\n",
    "    ycols = len(y[0])\n",
    "    \n",
    "    if xrows!=yrows or xcols!=ycols:\n",
    "        print(\"Sum is not defined as the matrices have different orders\") \n",
    "    else:\n",
    "        z = x\n",
    "        for i in range(xrows):\n",
    "            for j in range(xcols):\n",
    "                z[i][j] = z[i][j] + y [ i ][j]\n",
    "        return z"
   ]
  },
  {
   "cell_type": "code",
   "execution_count": 45,
   "id": "6c8d98d5-ac0b-4aea-a0b4-5dc777d0f4d0",
   "metadata": {},
   "outputs": [
    {
     "data": {
      "text/plain": [
       "[[10, 5, 5], [11, 6, -5]]"
      ]
     },
     "execution_count": 45,
     "metadata": {},
     "output_type": "execute_result"
    }
   ],
   "source": [
    "matrix_addition([[5,2,3],[3,4,-9]],[[5,3,2],[8,2,4]])"
   ]
  },
  {
   "cell_type": "code",
   "execution_count": 42,
   "id": "d8eb747a-15df-478d-903a-f041846adb87",
   "metadata": {},
   "outputs": [],
   "source": [
    "def matrix_subtraction(x,y):\n",
    "    xrows = len(x)\n",
    "    xcols = len(x[0])\n",
    "    yrows = len(y)\n",
    "    ycols = len(y[0])\n",
    "    \n",
    "    if xrows!=yrows or xcols!=ycols:\n",
    "        print(\"Substraction is not defined as the matrices have different orders\") \n",
    "    else:\n",
    "        z = x\n",
    "        for i in range(xrows):\n",
    "            for j in range(xcols):\n",
    "                z[i][j] = z[i][j] - y [ i ][j]\n",
    "        return z"
   ]
  },
  {
   "cell_type": "code",
   "execution_count": 35,
   "id": "775d5fd1-72a8-4989-8ce0-653541699274",
   "metadata": {},
   "outputs": [
    {
     "data": {
      "text/plain": [
       "[[0, -1, 1], [-5, 2, -13]]"
      ]
     },
     "execution_count": 35,
     "metadata": {},
     "output_type": "execute_result"
    }
   ],
   "source": [
    "matrix_subtraction([[5,2,3],[3,4,-9]],[[5,3,2],[8,2,4]])"
   ]
  },
  {
   "cell_type": "code",
   "execution_count": 57,
   "id": "16f20aee-6066-4450-814c-a4991b89a8c9",
   "metadata": {},
   "outputs": [],
   "source": [
    "def scalar_multiplication(c,X):\n",
    "    cX = X\n",
    "    for i in range(len(X)):\n",
    "        for j in range(len(X[0])):\n",
    "            cX[i][j] = c*cX[i][j]\n",
    "    return cX"
   ]
  },
  {
   "cell_type": "code",
   "execution_count": 58,
   "id": "b9ed3670-8014-4fd5-ab0b-16b56ad4aa90",
   "metadata": {},
   "outputs": [
    {
     "data": {
      "text/plain": [
       "[[-10, -4, -6], [-6, -8, 18]]"
      ]
     },
     "execution_count": 58,
     "metadata": {},
     "output_type": "execute_result"
    }
   ],
   "source": [
    "scalar_multiplication(-2,[[5,2,3],[3,4,-9]])"
   ]
  },
  {
   "cell_type": "code",
   "execution_count": 65,
   "id": "46790a83-fe44-4f89-8ba7-a8e705c02a55",
   "metadata": {},
   "outputs": [],
   "source": [
    "def matrix_multiplication(x, y):\n",
    "    xrows = len(x)\n",
    "    xcols = len(x[0])\n",
    "    yrows = len(y)\n",
    "    ycols = len(y[0])\n",
    "    if xcols!=yrows:\n",
    "        print(\"Product is not defined.\")\n",
    "    else:\n",
    "        z = [ [ 0 for i in range(ycols) ] for j in range(xrows) ]\n",
    "        for i in range(xrows):\n",
    "            for j in range(ycols):\n",
    "                total = 0\n",
    "                for ii in range(xcols):\n",
    "                    total += x[i][ii] * y[ii][j]\n",
    "                z [i] [j] = total\n",
    "        return z"
   ]
  },
  {
   "cell_type": "code",
   "execution_count": 66,
   "id": "f9111671-0ca5-421d-8c6d-893fdbcbda46",
   "metadata": {},
   "outputs": [
    {
     "data": {
      "text/plain": [
       "[[18, 18], [-16, -16]]"
      ]
     },
     "execution_count": 66,
     "metadata": {},
     "output_type": "execute_result"
    }
   ],
   "source": [
    "matrix_multiplication([[5,2,3],[3,4,-9]],[[1,1],[2,2],[3,3]])"
   ]
  },
  {
   "cell_type": "code",
   "execution_count": 59,
   "id": "45f32857-bff2-41c6-86e9-3de405f688f3",
   "metadata": {},
   "outputs": [],
   "source": [
    "#transpoza macierzy\n",
    "def matrix_transpose(x):\n",
    "    xrows = len(x)\n",
    "    xcols = len(x[0])\n",
    "    z = [[0 for i in range(xrows)] for j in range(xcols)]\n",
    "    for i in range(xcols):\n",
    "        for j in range(xrows):\n",
    "            z[i][j] = x[j][i]\n",
    "    return z"
   ]
  },
  {
   "cell_type": "code",
   "execution_count": 60,
   "id": "e8e75907-2abb-4eb0-84b7-5ce625b2cb7e",
   "metadata": {},
   "outputs": [
    {
     "data": {
      "text/plain": [
       "[[1, 2, 1, 5, 7, 8], [2, 4, 4, 6, 2, 3], [5, 5, 2, 7, 4, 0]]"
      ]
     },
     "execution_count": 60,
     "metadata": {},
     "output_type": "execute_result"
    }
   ],
   "source": [
    "matrix_transpose([[1,2,5],[2,4,5],[1,4,2],[5,6,7],[7,2,4],[8,3,0]])"
   ]
  },
  {
   "cell_type": "code",
   "execution_count": 25,
   "id": "aeef45fd-51d1-462f-9ff4-c08c9e4ac3be",
   "metadata": {},
   "outputs": [
    {
     "name": "stdout",
     "output_type": "stream",
     "text": [
      "9.99999999999999\n"
     ]
    }
   ],
   "source": [
    "#det A\n",
    "import numpy as np\n",
    "a = np.array([[1,2,1],[3,4,5],[5,3,7]]) \n",
    "print(np.linalg.det(a))"
   ]
  },
  {
   "cell_type": "code",
   "execution_count": 26,
   "id": "6ae7b820-2d16-4e0f-bb57-9dbfc92d6f37",
   "metadata": {},
   "outputs": [],
   "source": [
    "import statistics as st"
   ]
  },
  {
   "cell_type": "code",
   "execution_count": 27,
   "id": "091ae936-bb18-47bd-96ea-7f580f9f8910",
   "metadata": {},
   "outputs": [
    {
     "data": {
      "text/plain": [
       "10"
      ]
     },
     "execution_count": 27,
     "metadata": {},
     "output_type": "execute_result"
    }
   ],
   "source": [
    "st.mean([1,5,22,42,0,-10])"
   ]
  },
  {
   "cell_type": "code",
   "execution_count": 61,
   "id": "a3475803-435c-4482-a76f-26e882702493",
   "metadata": {},
   "outputs": [],
   "source": [
    "#covariance\n",
    "def covariance(x,y):\n",
    "    meanx = sum(x)/float(len(x))\n",
    "    meany = sum(y)/float(len(x))\n",
    "    xpart = [i - meanx for i in x]\n",
    "    ypart = [i - meany for i in y]\n",
    "    numerator = sum([xpart[i]*ypart[i] for i in range(len(xpart))])\n",
    "    denominator = len(x) -1\n",
    "    covariance = numerator/denominator\n",
    "    return covariance"
   ]
  },
  {
   "cell_type": "code",
   "execution_count": 29,
   "id": "eba653a9-2c6a-46d0-91c4-2a121941ef82",
   "metadata": {},
   "outputs": [
    {
     "data": {
      "text/plain": [
       "array([[12.33333333, 25.66666667],\n",
       "       [25.66666667, 60.33333333]])"
      ]
     },
     "execution_count": 29,
     "metadata": {},
     "output_type": "execute_result"
    }
   ],
   "source": [
    "x=[1,5,8]\n",
    "y=[2,6,17]\n",
    "C = np.cov(x,y)\n",
    "C"
   ]
  },
  {
   "cell_type": "code",
   "execution_count": 31,
   "id": "576dd816-e22f-4603-9d89-cfaf6f192c7b",
   "metadata": {},
   "outputs": [
    {
     "name": "stdout",
     "output_type": "stream",
     "text": [
      "2.8674417556808756\n",
      "6.342099196813483\n"
     ]
    }
   ],
   "source": [
    "mx = np.std(x)\n",
    "print(mx)\n",
    "my = np.std(y)\n",
    "print(my)\n"
   ]
  },
  {
   "cell_type": "code",
   "execution_count": 32,
   "id": "e6b0d986-0ebd-473c-978b-2ea57f575aa7",
   "metadata": {},
   "outputs": [
    {
     "data": {
      "text/plain": [
       "array([[0.67819227, 1.4113731 ],\n",
       "       [1.4113731 , 3.31764325]])"
      ]
     },
     "execution_count": 32,
     "metadata": {},
     "output_type": "execute_result"
    }
   ],
   "source": [
    "#korelacja\n",
    "correlation = C/(mx*my)\n",
    "correlation"
   ]
  }
 ],
 "metadata": {
  "kernelspec": {
   "display_name": "Python 3 (ipykernel)",
   "language": "python",
   "name": "python3"
  },
  "language_info": {
   "codemirror_mode": {
    "name": "ipython",
    "version": 3
   },
   "file_extension": ".py",
   "mimetype": "text/x-python",
   "name": "python",
   "nbconvert_exporter": "python",
   "pygments_lexer": "ipython3",
   "version": "3.10.7"
  }
 },
 "nbformat": 4,
 "nbformat_minor": 5
}
