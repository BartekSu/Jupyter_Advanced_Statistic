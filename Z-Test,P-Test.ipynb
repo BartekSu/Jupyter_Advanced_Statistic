{
 "cells": [
  {
   "cell_type": "code",
   "execution_count": 2,
   "id": "f58aea95-d156-4ea0-b800-f61bbf57a7fe",
   "metadata": {},
   "outputs": [],
   "source": [
    "import random\n",
    "random.seed(20)\n",
    "from statsmodels.stats.weightstats import ztest as ztest"
   ]
  },
  {
   "cell_type": "markdown",
   "id": "bac757c3-09ff-4769-ab34-e1171004a808",
   "metadata": {},
   "source": [
    "$ \\mu = 100 $ <br>\n",
    "$ \\sigma = 15 $ <br>"
   ]
  },
  {
   "cell_type": "code",
   "execution_count": 3,
   "id": "97d7ee2a-9d62-440f-b209-ea1dff9ecda9",
   "metadata": {},
   "outputs": [],
   "source": [
    "a = [random.gauss(100,15) for x in range(40)]"
   ]
  },
  {
   "cell_type": "code",
   "execution_count": 4,
   "id": "252e520b-d2a3-49c8-bf04-4181aebc3a42",
   "metadata": {},
   "outputs": [
    {
     "data": {
      "text/plain": [
       "(1.3430675401429018, 0.17925010504664385)"
      ]
     },
     "execution_count": 4,
     "metadata": {},
     "output_type": "execute_result"
    }
   ],
   "source": [
    "ztest(a,value= 100)"
   ]
  },
  {
   "cell_type": "code",
   "execution_count": 5,
   "id": "16e14c13-9355-42f6-b176-00d747d43139",
   "metadata": {},
   "outputs": [],
   "source": [
    "#work correctly\n",
    "#b = [random.gauss(mu,sigma) for x in range(40)]'\n",
    "b = [random.gauss(120,15) for x in range(40)]"
   ]
  },
  {
   "cell_type": "code",
   "execution_count": 6,
   "id": "3c6b0363-db80-4d0f-b3b2-f5652053a144",
   "metadata": {},
   "outputs": [
    {
     "data": {
      "text/plain": [
       "(7.8519708903183885, 2.0477478250250165e-15)"
      ]
     },
     "execution_count": 6,
     "metadata": {},
     "output_type": "execute_result"
    }
   ],
   "source": [
    "ztest(b,value= 100, alternative = 'larger')"
   ]
  },
  {
   "cell_type": "code",
   "execution_count": 7,
   "id": "00668254-47cb-4b96-bc6c-a4a3d3de0483",
   "metadata": {},
   "outputs": [],
   "source": [
    "c = [random.gauss(80,15) for x in range(40)]"
   ]
  },
  {
   "cell_type": "code",
   "execution_count": 8,
   "id": "872fab28-f128-4708-a90b-5cffac93caa3",
   "metadata": {},
   "outputs": [
    {
     "data": {
      "text/plain": [
       "(-8.827369053119002, 5.358336411467834e-19)"
      ]
     },
     "execution_count": 8,
     "metadata": {},
     "output_type": "execute_result"
    }
   ],
   "source": [
    "ztest(c,value= 100, alternative = 'smaller')"
   ]
  },
  {
   "cell_type": "code",
   "execution_count": 11,
   "id": "9dbe5c35-79b1-4bf1-a860-5d15f05c461a",
   "metadata": {},
   "outputs": [],
   "source": [
    "a = [random.gauss(100,15) for x in range(40)]\n",
    "b = [random.gauss(120,15) for x in range(40)]"
   ]
  },
  {
   "cell_type": "code",
   "execution_count": 13,
   "id": "01fe6a7e-7a8e-4bed-8bf8-083128c8769d",
   "metadata": {},
   "outputs": [
    {
     "name": "stdout",
     "output_type": "stream",
     "text": [
      "(-7.020721477220407, 2.20725471456254e-12)\n",
      "(v,p)\n"
     ]
    }
   ],
   "source": [
    "print(ztest(a,b,value=0))\n",
    "print('(v,p)')"
   ]
  },
  {
   "cell_type": "code",
   "execution_count": 53,
   "id": "8e576bfd-719b-4856-85e0-96cdb951c577",
   "metadata": {},
   "outputs": [],
   "source": [
    "#if p value is low it means that IQ value in 2 cities is not the same, we can reject 'no  hypotesis'"
   ]
  },
  {
   "cell_type": "code",
   "execution_count": 14,
   "id": "80807d84-5379-425b-9f09-125da5379f0f",
   "metadata": {},
   "outputs": [
    {
     "name": "stdout",
     "output_type": "stream",
     "text": [
      "(-0.42258605980082026, 0.6725972991633598)\n",
      "(v,p)\n"
     ]
    }
   ],
   "source": [
    "a = [random.gauss(100,15) for x in range(40)]\n",
    "b = [random.gauss(100,15) for x in range(40)]\n",
    "print(ztest(a,b,value=0))\n",
    "print('(v,p)')\n",
    "#if p value is high and no equal 0 it means that IQ value in 2 cities is the same, we need accept 'no  hypotesis'"
   ]
  }
 ],
 "metadata": {
  "kernelspec": {
   "display_name": "Python 3 (ipykernel)",
   "language": "python",
   "name": "python3"
  },
  "language_info": {
   "codemirror_mode": {
    "name": "ipython",
    "version": 3
   },
   "file_extension": ".py",
   "mimetype": "text/x-python",
   "name": "python",
   "nbconvert_exporter": "python",
   "pygments_lexer": "ipython3",
   "version": "3.10.7"
  }
 },
 "nbformat": 4,
 "nbformat_minor": 5
}
